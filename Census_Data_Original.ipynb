{
  "nbformat": 4,
  "nbformat_minor": 0,
  "metadata": {
    "colab": {
      "provenance": [],
      "include_colab_link": true
    },
    "kernelspec": {
      "name": "python3",
      "display_name": "Python 3"
    },
    "language_info": {
      "name": "python"
    }
  },
  "cells": [
    {
      "cell_type": "markdown",
      "metadata": {
        "id": "view-in-github",
        "colab_type": "text"
      },
      "source": [
        "<a href=\"https://colab.research.google.com/github/Zarina33/CensusBureau/blob/main/Census_Data_Original.ipynb\" target=\"_parent\"><img src=\"https://colab.research.google.com/assets/colab-badge.svg\" alt=\"Open In Colab\"/></a>"
      ]
    },
    {
      "cell_type": "markdown",
      "source": [
        "# Select cites with population over 50,000 - function"
      ],
      "metadata": {
        "id": "pnRClc8ccLHD"
      }
    },
    {
      "cell_type": "code",
      "execution_count": null,
      "metadata": {
        "id": "9A2YKfw3bvwr"
      },
      "outputs": [],
      "source": [
        "import requests\n",
        "\n",
        "url = 'https://api.census.gov/data/2019/pep/population'\n",
        "\n",
        "params = {\n",
        "    'get': 'NAME,POP',\n",
        "    'for': 'place:*',\n",
        "    'in': 'state:*',\n",
        "    'key': '5530a8242fe8f4312d092353bff5141be5c023bc'\n",
        "}\n",
        "\n",
        "response = requests.get(url, params=params)\n",
        "\n",
        "if response.status_code == 200:\n",
        "    data = response.json()\n",
        "    for row in data[1:]:\n",
        "        city = row[0]\n",
        "        population = int(row[1])\n",
        "        if population > 50000:\n",
        "            print(city)\n",
        "else:\n",
        "    print('Error:', response.status_code, response.reason)"
      ]
    },
    {
      "cell_type": "markdown",
      "source": [],
      "metadata": {
        "id": "n4iSfVFzcJ5L"
      }
    },
    {
      "cell_type": "markdown",
      "source": [
        "# Query for all cities - function"
      ],
      "metadata": {
        "id": "zlJTAPDkd1xg"
      }
    },
    {
      "cell_type": "code",
      "source": [
        "import requests\n",
        "\n",
        "def get_cities_info():\n",
        "    url = \"https://api.census.gov/data/2021/acs/acs5?get=NAME&for=place:*&in=state:*\"\n",
        "    response = requests.get(url)\n",
        "\n",
        "    if response.status_code == 200:\n",
        "        data = response.json()\n",
        "        cities = [(city[0], city[1]) for city in data[1:]]\n",
        "        return cities\n",
        "    else:\n",
        "        print(\"Error: Request failed with status code\", response.status_code)\n",
        "        \n",
        "cities = get_cities_info()\n",
        "print(cities)\n",
        "\n"
      ],
      "metadata": {
        "id": "JgnINXXhfPjf"
      },
      "execution_count": null,
      "outputs": []
    },
    {
      "cell_type": "markdown",
      "source": [
        "# Split cities between US states - function "
      ],
      "metadata": {
        "id": "IZWjwTu3g70D"
      }
    },
    {
      "cell_type": "code",
      "source": [
        "def split():\n",
        "    url = \"https://api.census.gov/data/2021/acs/acs5?get=NAME&for=place:*&in=state:*\"\n",
        "    response = requests.get(url)\n",
        "\n",
        "    if response.status_code == 200:\n",
        "        data = response.json()\n",
        "        cities_by_state = {}\n",
        "\n",
        "        for city in data[1:]:\n",
        "            state_code = city[1]\n",
        "            city_name = city[0].split(',')[0] \n",
        "            if state_code not in cities_by_state:\n",
        "                cities_by_state[state_code] = [city_name]\n",
        "            else:\n",
        "                cities_by_state[state_code].append(city_name)\n",
        "\n",
        "        return cities_by_state\n",
        "    else:\n",
        "        print(\"Error: Request failed with status code\", response.status_code)\n",
        "        return None\n",
        "\n",
        "cities_by_state = split()\n",
        "for state_code, cities in cities_by_state.items():\n",
        "    for city in cities:\n",
        "        print(city)"
      ],
      "metadata": {
        "id": "1NQqxjZvhE5A"
      },
      "execution_count": null,
      "outputs": []
    },
    {
      "cell_type": "markdown",
      "source": [
        "# Create a list of variables - function"
      ],
      "metadata": {
        "id": "LnX_H97TkQXz"
      }
    },
    {
      "cell_type": "code",
      "source": [
        "def in_list():\n",
        "  url = \"https://api.census.gov/data/2021/acs/acs5/variables.html\"\n",
        "  response = requests.get(url)\n",
        "\n",
        "  if response.status_code == 200:\n",
        "        data = response.json()\n",
        "        variables = []\n",
        "\n",
        "        for variable, info in data[\"variables\"].items():\n",
        "            if \"label\" in info and \"concept\" in info:\n",
        "                variables.append((variable, info[\"label\"], info[\"concept\"]))\n",
        "\n",
        "        return variables\n",
        "  else:\n",
        "      print(\"Error: Request failed with status code\", response.status_code)\n",
        "      return None"
      ],
      "metadata": {
        "id": "cyPl8nJjkaG-"
      },
      "execution_count": 17,
      "outputs": []
    },
    {
      "cell_type": "code",
      "source": [
        "variables = in_list()\n",
        "for variable in variables:\n",
        "    print(variable)"
      ],
      "metadata": {
        "id": "GzBbpYgRlbS3"
      },
      "execution_count": null,
      "outputs": []
    },
    {
      "cell_type": "markdown",
      "source": [
        "# Помещение штатов и относящиеся к ним города в один словарь "
      ],
      "metadata": {
        "id": "nWaNSvgmlx2Y"
      }
    },
    {
      "cell_type": "code",
      "source": [
        "\n",
        "def get_cities_by_state():\n",
        "    url = \"https://api.census.gov/data/2021/acs/acs5?get=NAME&for=place:*&in=state:*\"\n",
        "    response = requests.get(url)\n",
        "\n",
        "    if response.status_code == 200:\n",
        "        data = response.json()\n",
        "        cities_by_state = {}\n",
        "\n",
        "        for city in data[1:]:\n",
        "            state_name = city[2]\n",
        "            city_name = city[0]\n",
        "\n",
        "            # If the state isn't already in the dictionary, add it with this city as the value\n",
        "            if state_name not in cities_by_state:\n",
        "                cities_by_state[state_name] = [city_name]\n",
        "            # Otherwise, add this city to the list of cities for this state\n",
        "            else:\n",
        "                cities_by_state[state_name].append(city_name)\n",
        "\n",
        "        return cities_by_state\n",
        "    else:\n",
        "        print(\"Error: Request failed with status code\", response.status_code)\n",
        "        return None\n",
        "\n",
        "cities_by_state = get_cities_by_state()\n",
        "\n",
        "for state, cities in cities_by_state.items():\n",
        "    print(state)\n",
        "    for city in cities:\n",
        "        print(\"-\", city)\n"
      ],
      "metadata": {
        "id": "2m3BSoR-nfF9"
      },
      "execution_count": null,
      "outputs": []
    },
    {
      "cell_type": "code",
      "source": [
        "\n",
        "def get_cities_by_state():\n",
        "    url = \"https://api.census.gov/data/2021/acs/acs5?get=NAME&for=place:*&in=state:*\"\n",
        "    response = requests.get(url)\n",
        "\n",
        "    if response.status_code == 200:\n",
        "        data = response.json()\n",
        "        cities_by_state = {}\n",
        "\n",
        "        for city in data[1:]:\n",
        "            state_code = city[1]\n",
        "            state_name = city[2]\n",
        "            city_name = city[0]\n",
        "\n",
        "            # If the state isn't already in the dictionary, add it with this city as the value\n",
        "            if state_name not in cities_by_state:\n",
        "                cities_by_state[state_name] = city_name\n",
        "            # Otherwise, add this city to the list of cities for this state\n",
        "            else:\n",
        "                cities_by_state[state_name] += f\", {city_name}\"\n",
        "\n",
        "        return cities_by_state\n",
        "    else:\n",
        "        print(\"Error: Request failed with status code\", response.status_code)\n",
        "        return None\n",
        "\n",
        "cities_by_state = get_cities_by_state()\n",
        "\n",
        "for state, cities in cities_by_state.items():\n",
        "    print(f\"{state}: {cities}\")\n"
      ],
      "metadata": {
        "id": "hT7Lumnmrusr"
      },
      "execution_count": null,
      "outputs": []
    },
    {
      "cell_type": "markdown",
      "source": [
        "# Readable format for json "
      ],
      "metadata": {
        "id": "3jz8SmtyoziM"
      }
    },
    {
      "cell_type": "code",
      "source": [
        "def print_variable_info():\n",
        "    url = \"https://api.census.gov/data/2021/acs/acs5/variables.json\"\n",
        "    response = requests.get(url)\n",
        "\n",
        "    if response.status_code == 200:\n",
        "        data = response.json()[\"variables\"]\n",
        "        for variable in data:\n",
        "            print(\"Name:\", variable)\n",
        "            print(\"Label:\", data[variable][\"label\"])\n",
        "            print(\"Concept:\", data[variable][\"concept\"])\n",
        "            print(\"Type:\", data[variable][\"type\"])\n",
        "            print(\"Required:\", \"yes\" if data[variable][\"required\"] == True else \"no\")\n",
        "            print(\"--------------------\")\n",
        "    else:\n",
        "        print(\"Error: Request failed with status code\", response.status_code)\n"
      ],
      "metadata": {
        "id": "nL_J5-5ZpBN8"
      },
      "execution_count": null,
      "outputs": []
    }
  ]
}